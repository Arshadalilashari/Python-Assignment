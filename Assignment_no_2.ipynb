{
 "cells": [
  {
   "cell_type": "code",
   "execution_count": 4,
   "metadata": {},
   "outputs": [
    {
     "name": "stdout",
     "output_type": "stream",
     "text": [
      "Enter Marks of Applied_Physics86\n",
      "Enter Marks of Linear_Circuit_Analysis87\n",
      "Enter Marks ofnApplied_Calculus98\n",
      "Enter Marks of Introduction_to_computing_Programming85\n",
      "Enter Marks of Functional_English89\n",
      "89\n",
      "Your Grade is A+\n"
     ]
    }
   ],
   "source": [
    "# Write a program which takes 5 inputs from user for different subject’s marks, total it and generate mark sheet using grades ?\n",
    "Applied_Physics = int(input(\"Enter Marks of Applied_Physics\"))\n",
    "Linear_Circuit_Analysis = int(input(\"Enter Marks of Linear_Circuit_Analysis\"))\n",
    "Applied_Calculus = int(input(\"Enter Marks ofnApplied_Calculus\"))\n",
    "Introduction_to_computing_Programming = int(input(\"Enter Marks of Introduction_to_computing_Programming\"))\n",
    "Functional_English = int(input(\"Enter Marks of Functional_English\"))\n",
    "\n",
    "Marks_obtained= Applied_Physics + Linear_Circuit_Analysis + Applied_Calculus + Introduction_to_computing_Programming + Functional_English\n",
    "total_marks = 500\n",
    "percentage = int((Marks_obtained / total_marks)*100)\n",
    "print(percentage)\n",
    "\n",
    "if percentage >= 85 and percentage <= 100:\n",
    "    print(\"Your Grade is A+\")\n",
    "elif percentage >=80 and percentage <85:\n",
    "    print(\"Your Grade is A\")\n",
    "elif percentage >=70 and percentage <80:\n",
    "    print(\"Your Grade is B\")\n",
    "elif percentage >=60 and percentage <70:\n",
    "    print(\"Your Grade is C\")\n",
    "elif percentage >=50 and percentage <60:\n",
    "    print(\"Your Grade is D\")\n",
    "elif percentage >=40 and percentage <50:\n",
    "    print(\"Your Grade is F\")\n",
    "elif percentage >=0 and percentage <40:\n",
    "    print(\"You Fail\")\n",
    "else:\n",
    "    print(\"You Enter Invalid Percentage\")\n"
   ]
  },
  {
   "cell_type": "code",
   "execution_count": 5,
   "metadata": {},
   "outputs": [
    {
     "name": "stdout",
     "output_type": "stream",
     "text": [
      "Enter A Number5\n",
      "You Enter an Odd Number\n"
     ]
    }
   ],
   "source": [
    "# Write a program which take input from user and identify that the given number is even or odd?\n",
    "num = int(input(\"Enter A Number\"))\n",
    "if num%2 == 0:\n",
    "    print(\"You Enter an Even Number\")\n",
    "else:\n",
    "    print(\"You Enter an Odd Number\")"
   ]
  },
  {
   "cell_type": "code",
   "execution_count": 7,
   "metadata": {},
   "outputs": [
    {
     "name": "stdout",
     "output_type": "stream",
     "text": [
      "The Length of the List is 12\n"
     ]
    }
   ],
   "source": [
    "# Write a program which print the length of the list?\n",
    "arr = [1, 11, 52, 36, 5, 8, 13, 21, 34, 85, 76, 59 ]\n",
    "print(\"The Length of the List is \"+str(len(arr)))"
   ]
  },
  {
   "cell_type": "code",
   "execution_count": 8,
   "metadata": {},
   "outputs": [
    {
     "name": "stdout",
     "output_type": "stream",
     "text": [
      "Sum of List is 401\n"
     ]
    }
   ],
   "source": [
    "# Write a Python program to sum all the numeric items in a list?\n",
    "arr = [1, 11, 52, 36, 5, 8, 13, 21, 34, 85, 76, 59 ]\n",
    "sum = 0\n",
    "\n",
    "for i in arr:\n",
    "    sum += i\n",
    "    \n",
    "print(\"Sum of List is \" +str(sum))"
   ]
  },
  {
   "cell_type": "code",
   "execution_count": 9,
   "metadata": {},
   "outputs": [
    {
     "name": "stdout",
     "output_type": "stream",
     "text": [
      "Largest number from a numeric list is 85\n"
     ]
    }
   ],
   "source": [
    "# Write a Python program to get the largest number from a numeric list.\n",
    "arr = [1, 11, 52, 36, 5, 8, 13, 21, 34, 85, 76, 59 ]\n",
    "print(\"Largest number from a numeric list is \" + str(max(arr)))"
   ]
  },
  {
   "cell_type": "code",
   "execution_count": 10,
   "metadata": {},
   "outputs": [
    {
     "name": "stdout",
     "output_type": "stream",
     "text": [
      "1\n",
      "1\n",
      "2\n",
      "3\n",
      "5\n"
     ]
    }
   ],
   "source": [
    "# Take a list, say for example this one: a = [1, 1, 2, 3, 5, 8, 13, 21, 34, 55, 89] and write a program that prints out all the elements of the list that are less than 5.\n",
    "arr = [1, 1, 2, 3, 5, 8, 13, 21, 34, 55, 89]\n",
    "for i in arr:\n",
    "    if i <= 5:\n",
    "        print(i)"
   ]
  },
  {
   "cell_type": "code",
   "execution_count": null,
   "metadata": {},
   "outputs": [],
   "source": []
  }
 ],
 "metadata": {
  "kernelspec": {
   "display_name": "Python 3",
   "language": "python",
   "name": "python3"
  },
  "language_info": {
   "codemirror_mode": {
    "name": "ipython",
    "version": 3
   },
   "file_extension": ".py",
   "mimetype": "text/x-python",
   "name": "python",
   "nbconvert_exporter": "python",
   "pygments_lexer": "ipython3",
   "version": "3.7.4"
  }
 },
 "nbformat": 4,
 "nbformat_minor": 2
}
